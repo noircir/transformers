{
 "cells": [
  {
   "cell_type": "code",
   "execution_count": 19,
   "id": "59eb6f9f-1a03-4971-95a8-143ae94c2147",
   "metadata": {},
   "outputs": [],
   "source": [
    "import torch"
   ]
  },
  {
   "cell_type": "code",
   "execution_count": 20,
   "id": "95d128a0-d400-4a6c-833d-6ede5e3b84c1",
   "metadata": {},
   "outputs": [
    {
     "data": {
      "text/plain": [
       "tensor([0.4639, 0.3339, 0.8020], requires_grad=True)"
      ]
     },
     "execution_count": 20,
     "metadata": {},
     "output_type": "execute_result"
    }
   ],
   "source": [
    "x = torch.randn(3, requires_grad=True)\n",
    "x"
   ]
  },
  {
   "cell_type": "code",
   "execution_count": 21,
   "id": "941e1a0e-97f0-4c1c-807e-207063cc3cbc",
   "metadata": {},
   "outputs": [
    {
     "data": {
      "text/plain": [
       "tensor([2.4639, 2.3339, 2.8020], grad_fn=<AddBackward0>)"
      ]
     },
     "execution_count": 21,
     "metadata": {},
     "output_type": "execute_result"
    }
   ],
   "source": [
    "# whenever we do an operation, PyTorch will create a computational graph\n",
    "\n",
    "y= x + 2\n",
    "y"
   ]
  },
  {
   "cell_type": "code",
   "execution_count": 22,
   "id": "90a5d302-1847-4c27-9398-d8168db86e0e",
   "metadata": {},
   "outputs": [
    {
     "data": {
      "text/plain": [
       "tensor([0.9278, 0.6677, 1.6040], grad_fn=<MulBackward0>)"
      ]
     },
     "execution_count": 22,
     "metadata": {},
     "output_type": "execute_result"
    }
   ],
   "source": [
    "y = x * 2\n",
    "y"
   ]
  },
  {
   "cell_type": "code",
   "execution_count": 23,
   "id": "e9c6a103-f5be-44b2-ae1e-f829f87c9042",
   "metadata": {},
   "outputs": [
    {
     "data": {
      "text/plain": [
       "tensor([1.7217, 0.8917, 5.1458], grad_fn=<MulBackward0>)"
      ]
     },
     "execution_count": 23,
     "metadata": {},
     "output_type": "execute_result"
    }
   ],
   "source": [
    "z = y*y*2\n",
    "z"
   ]
  },
  {
   "cell_type": "code",
   "execution_count": null,
   "id": "bbd65ad2-11d2-4113-a89d-01b79d4205cd",
   "metadata": {},
   "outputs": [],
   "source": [
    "# z = z.mean()\n",
    "# z"
   ]
  },
  {
   "cell_type": "code",
   "execution_count": null,
   "id": "eb21ec25-252f-4a18-a306-9145a1d03053",
   "metadata": {},
   "outputs": [],
   "source": [
    "# z.backward() # dz/dx\n",
    "# x.grad"
   ]
  },
  {
   "cell_type": "code",
   "execution_count": null,
   "id": "4a02d6f1-17b4-4fc0-bf50-96b41b173f3f",
   "metadata": {},
   "outputs": [],
   "source": [
    "# z.grad"
   ]
  },
  {
   "cell_type": "code",
   "execution_count": null,
   "id": "525c694b-60f8-4721-8d68-a943a43f1c1c",
   "metadata": {},
   "outputs": [],
   "source": [
    "# if z is not a scalar value, then this error will appear\n",
    "\n",
    "z.backward()"
   ]
  },
  {
   "cell_type": "code",
   "execution_count": 24,
   "id": "33331f13-3a69-4923-bd92-12e173c669a8",
   "metadata": {},
   "outputs": [
    {
     "data": {
      "text/plain": [
       "tensor([0.7423, 5.3417, 0.0128])"
      ]
     },
     "execution_count": 24,
     "metadata": {},
     "output_type": "execute_result"
    }
   ],
   "source": [
    "# if z is not a scalar value, we must give it a vector, since we are doing a Jacobian matrix multiplication. \n",
    "\n",
    "v = torch.tensor([0.1, 1.0, 0.001], dtype=torch.float32)\n",
    "z.backward(v) #dz/dx\n",
    "x.grad"
   ]
  },
  {
   "cell_type": "markdown",
   "id": "8a6e7da1-6454-4459-bdba-d5301b8f9588",
   "metadata": {},
   "source": [
    "## How to prevent PyTorch from tracking history (from tracking nodes)\n",
    "\n",
    "When calculating gradient on the backward pass, no need to track nodes"
   ]
  },
  {
   "cell_type": "code",
   "execution_count": null,
   "id": "e647a584-8360-44e3-ace0-5fda9923f360",
   "metadata": {},
   "outputs": [],
   "source": [
    "# x.requires_grad_(False) the trailing underscore means modification in place\n",
    "# x.detach - will create a new tensor\n",
    "# with torch.no_grad():"
   ]
  },
  {
   "cell_type": "code",
   "execution_count": 28,
   "id": "773b68b4-2500-426b-b667-13b198c91fd9",
   "metadata": {},
   "outputs": [
    {
     "data": {
      "text/plain": [
       "tensor([-1.3081, -0.5533, -0.9817])"
      ]
     },
     "execution_count": 28,
     "metadata": {},
     "output_type": "execute_result"
    }
   ],
   "source": [
    "x = torch.randn(3, requires_grad=True)\n",
    "x.requires_grad_(False)\n",
    "x"
   ]
  },
  {
   "cell_type": "code",
   "execution_count": 29,
   "id": "49b87a3f-797a-45c3-9b45-4a2bd1a89a58",
   "metadata": {},
   "outputs": [
    {
     "name": "stdout",
     "output_type": "stream",
     "text": [
      "tensor([ 0.7483, -1.8355,  1.5224], requires_grad=True)\n",
      "tensor([ 0.7483, -1.8355,  1.5224])\n"
     ]
    }
   ],
   "source": [
    "x = torch.randn(3, requires_grad=True)\n",
    "y = x.detach()\n",
    "print(x)\n",
    "print(y)"
   ]
  },
  {
   "cell_type": "code",
   "execution_count": 31,
   "id": "19c661c7-6bd1-4c92-b256-d7b82ec6ae52",
   "metadata": {},
   "outputs": [
    {
     "name": "stdout",
     "output_type": "stream",
     "text": [
      "tensor([-0.1801,  0.0269, -2.2201], requires_grad=True)\n",
      "tensor([ 1.8199,  2.0269, -0.2201])\n"
     ]
    }
   ],
   "source": [
    "x = torch.randn(3, requires_grad=True)\n",
    "print(x)\n",
    "with torch.no_grad():\n",
    "    y = x +2\n",
    "    print(y)"
   ]
  },
  {
   "cell_type": "markdown",
   "id": "f8ca58df-a84d-406a-807e-f5c35a87e988",
   "metadata": {},
   "source": [
    "## Accumulation of gradient"
   ]
  },
  {
   "cell_type": "code",
   "execution_count": 34,
   "id": "5ae703a9-69da-4142-8863-458f04eadc50",
   "metadata": {},
   "outputs": [
    {
     "name": "stdout",
     "output_type": "stream",
     "text": [
      "tensor([3., 3., 3., 3.])\n"
     ]
    }
   ],
   "source": [
    "weights = torch.ones(4, requires_grad=True)\n",
    "\n",
    "for epoch in range(1):\n",
    "    model_output = (weights*3).sum() # sum() makes it a scalar, as discussed above\n",
    "    model_output.backward()\n",
    "    print(weights.grad)"
   ]
  },
  {
   "cell_type": "code",
   "execution_count": 35,
   "id": "d7e55236-43de-4dcb-b93b-1274545b48a2",
   "metadata": {},
   "outputs": [
    {
     "name": "stdout",
     "output_type": "stream",
     "text": [
      "tensor([3., 3., 3., 3.])\n"
     ]
    }
   ],
   "source": [
    "x = torch.ones(4, requires_grad=True)\n",
    "\n",
    "for epoch in range(1):\n",
    "    z = (x*3).sum() # sum() makes it a scalar, as discussed above\n",
    "    z.backward()\n",
    "    print(x.grad)"
   ]
  },
  {
   "cell_type": "code",
   "execution_count": 37,
   "id": "2a13cfd6-eb27-4011-8454-5fff8cf75a7c",
   "metadata": {},
   "outputs": [
    {
     "name": "stdout",
     "output_type": "stream",
     "text": [
      "tensor([3., 3., 3., 3.])\n",
      "tensor([6., 6., 6., 6.])\n",
      "tensor([9., 9., 9., 9.])\n"
     ]
    }
   ],
   "source": [
    "weights = torch.ones(4, requires_grad=True)\n",
    "\n",
    "for epoch in range(3):\n",
    "    model_output = (weights*3).sum() # sum() makes it a scalar, as discussed above\n",
    "    model_output.backward()\n",
    "    print(weights.grad)"
   ]
  },
  {
   "cell_type": "code",
   "execution_count": 39,
   "id": "255d822c-44b6-494d-8614-088f1ffc165b",
   "metadata": {},
   "outputs": [
    {
     "name": "stdout",
     "output_type": "stream",
     "text": [
      "tensor([3., 3., 3., 3.])\n",
      "tensor([3., 3., 3., 3.])\n",
      "tensor([3., 3., 3., 3.])\n"
     ]
    }
   ],
   "source": [
    "weights = torch.ones(4, requires_grad=True)\n",
    "\n",
    "for epoch in range(3):\n",
    "    model_output = (weights*3).sum() # sum() makes it a scalar, as discussed above\n",
    "    model_output.backward()\n",
    "    print(weights.grad)\n",
    "    weights.grad.zero_()  # empty the gradient"
   ]
  },
  {
   "cell_type": "code",
   "execution_count": null,
   "id": "5fd1e123-2471-4066-8802-275a1a70b136",
   "metadata": {},
   "outputs": [],
   "source": []
  },
  {
   "cell_type": "code",
   "execution_count": null,
   "id": "820084cc-5d78-4aa8-9348-8318ee7fa13b",
   "metadata": {},
   "outputs": [],
   "source": []
  },
  {
   "cell_type": "code",
   "execution_count": null,
   "id": "c8e1e9dd-2e9e-467a-bcb6-26acfd09723d",
   "metadata": {},
   "outputs": [],
   "source": []
  }
 ],
 "metadata": {
  "kernelspec": {
   "display_name": "Python 3 (ipykernel)",
   "language": "python",
   "name": "python3"
  },
  "language_info": {
   "codemirror_mode": {
    "name": "ipython",
    "version": 3
   },
   "file_extension": ".py",
   "mimetype": "text/x-python",
   "name": "python",
   "nbconvert_exporter": "python",
   "pygments_lexer": "ipython3",
   "version": "3.9.12"
  }
 },
 "nbformat": 4,
 "nbformat_minor": 5
}
