{
 "cells": [
  {
   "cell_type": "markdown",
   "id": "97dddc41-a1aa-4cb9-8263-dbdec01c25ca",
   "metadata": {},
   "source": [
    "# Linear Regression\n",
    "\n",
    "## Typical PyTorch Pipeline"
   ]
  },
  {
   "cell_type": "code",
   "execution_count": 1,
   "id": "b3cbf6b2-6783-41c9-b58a-60ac76b92694",
   "metadata": {},
   "outputs": [],
   "source": [
    "# 1) Design model (input, output size, forward pass)\n",
    "# 2) Construct loss and optimizer\n",
    "# 3) Training loop\n",
    "#  - forward pass: compute prediction\n",
    "#  - backward pass: gradients\n",
    "#  - update weights"
   ]
  },
  {
   "cell_type": "code",
   "execution_count": 1,
   "id": "1932b84c-07c7-4678-ae50-5c4958b6b941",
   "metadata": {},
   "outputs": [],
   "source": [
    "import torch\n",
    "import torch.nn as nn\n",
    "import numpy as np\n",
    "from sklearn import datasets\n",
    "import matplotlib.pyplot as plt"
   ]
  },
  {
   "cell_type": "code",
   "execution_count": 19,
   "id": "adfa5102-e076-4314-9e62-8e03fceef875",
   "metadata": {},
   "outputs": [],
   "source": [
    "# 0) prepare data\n",
    "\n",
    "# create data as numpy arrays\n",
    "X_numpy, y_numpy = datasets.make_regression(n_samples=100, n_features=1, noise=20, random_state=42)\n",
    "\n",
    "# convert data to tensors\n",
    "X = torch.from_numpy(X_numpy.astype(np.float32)) # by default X_numpy is of 'double' type\n",
    "y = torch.from_numpy(y_numpy.astype(np.float32))\n",
    "\n",
    "# reshape y (now the y it is a row, reshape it into a column)\n",
    "# torch has the \"view\" method\n",
    "y = y.view(y.shape[0], 1) # it is now a column the length of the samples\n",
    "\n",
    "n_samples, n_features = X.shape"
   ]
  },
  {
   "cell_type": "code",
   "execution_count": 20,
   "id": "3b0a664e-df3f-49e7-bf3d-6e914a952835",
   "metadata": {},
   "outputs": [
    {
     "name": "stdout",
     "output_type": "stream",
     "text": [
      "100\n",
      "1\n"
     ]
    }
   ],
   "source": [
    "print(n_samples)\n",
    "print(n_features)"
   ]
  },
  {
   "cell_type": "code",
   "execution_count": 21,
   "id": "259c4802-5469-4a83-822f-ecc82f77904a",
   "metadata": {},
   "outputs": [],
   "source": [
    "# 1) model\n",
    "input_size = n_features\n",
    "output_size = 1\n",
    "model = nn.Linear(input_size, output_size) "
   ]
  },
  {
   "cell_type": "code",
   "execution_count": 22,
   "id": "1469d762-3f18-42f4-8094-54329483f985",
   "metadata": {},
   "outputs": [],
   "source": [
    "# 2) loss and optimizer\n",
    "\n",
    "learning_rate = 0.01\n",
    "\n",
    "# MSE\n",
    "criterion = nn.MSELoss()\n",
    "optimizer = torch.optim.SGD(model.parameters(), lr=learning_rate)"
   ]
  },
  {
   "cell_type": "code",
   "execution_count": 23,
   "id": "8e6ed789-a9d1-4678-8a28-2d02fd044e09",
   "metadata": {},
   "outputs": [
    {
     "name": "stdout",
     "output_type": "stream",
     "text": [
      "epoch 1: w = 1.176, bias: 0.503, loss = 2104.54785156\n",
      "epoch 11: w = 8.198, bias: 0.028, loss = 1595.11608887\n",
      "epoch 21: w = 14.134, bias: -0.236, loss = 1232.10900879\n",
      "epoch 31: w = 19.154, bias: -0.348, loss = 972.90631104\n",
      "epoch 41: w = 23.402, bias: -0.351, loss = 787.46630859\n",
      "epoch 51: w = 26.998, bias: -0.278, loss = 654.55828857\n",
      "epoch 61: w = 30.043, bias: -0.156, loss = 559.14044189\n",
      "epoch 71: w = 32.622, bias: -0.002, loss = 490.53094482\n",
      "epoch 81: w = 34.809, bias: 0.169, loss = 441.12628174\n",
      "epoch 91: w = 36.663, bias: 0.347, loss = 405.50363159\n",
      "epoch 101: w = 38.235, bias: 0.525, loss = 379.78671265\n",
      "epoch 111: w = 39.569, bias: 0.699, loss = 361.20031738\n",
      "epoch 121: w = 40.701, bias: 0.864, loss = 347.75338745\n",
      "epoch 131: w = 41.663, bias: 1.019, loss = 338.01577759\n",
      "epoch 141: w = 42.480, bias: 1.162, loss = 330.95816040\n",
      "epoch 151: w = 43.173, bias: 1.294, loss = 325.83898926\n",
      "epoch 161: w = 43.763, bias: 1.413, loss = 322.12322998\n",
      "epoch 171: w = 44.264, bias: 1.522, loss = 319.42443848\n",
      "epoch 181: w = 44.690, bias: 1.619, loss = 317.46301270\n",
      "epoch 191: w = 45.053, bias: 1.706, loss = 316.03686523\n"
     ]
    }
   ],
   "source": [
    "# 3) training loop\n",
    "\n",
    "num_epochs = 200\n",
    "for epoch in range(num_epochs):\n",
    "    \n",
    "    # forward pass and loss\n",
    "    y_predicted = model(X)\n",
    "    loss = criterion(y_predicted, y)\n",
    "    \n",
    "    # backward pass\n",
    "    loss.backward()\n",
    "    \n",
    "    # update weights\n",
    "    optimizer.step()\n",
    "    optimizer.zero_grad()\n",
    "    \n",
    "    if epoch % 10 == 0:\n",
    "        [w,b] = model.parameters()\n",
    "        print(f'epoch {epoch+1}: w = {w[0][0].item():.3f}, bias: {b[0]:.3f}, loss = {loss.item():.8f}')\n"
   ]
  },
  {
   "cell_type": "code",
   "execution_count": 24,
   "id": "89e14578-93a1-4900-9274-0e97c9e0ebed",
   "metadata": {},
   "outputs": [
    {
     "data": {
      "image/png": "[encoded data removed]",
      "text/plain": [
       "<Figure size 432x288 with 1 Axes>"
      ]
     },
     "metadata": {
      "needs_background": "light"
     },
     "output_type": "display_data"
    }
   ],
   "source": [
    "# plot\n",
    "\n",
    "# detach: create a new tensor where require_grad=False\n",
    "predicted = model(X).detach().numpy()\n",
    "plt.plot(X_numpy, y_numpy, 'ro')\n",
    "plt.plot(X_numpy, predicted, 'b');"
   ]
  },
  {
   "cell_type": "code",
   "execution_count": null,
   "id": "0500fa00-326f-443d-91f4-6ff309877061",
   "metadata": {},
   "outputs": [],
   "source": []
  }
 ],
 "metadata": {
  "kernelspec": {
   "display_name": "Python 3 (ipykernel)",
   "language": "python",
   "name": "python3"
  },
  "language_info": {
   "codemirror_mode": {
    "name": "ipython",
    "version": 3
   },
   "file_extension": ".py",
   "mimetype": "text/x-python",
   "name": "python",
   "nbconvert_exporter": "python",
   "pygments_lexer": "ipython3",
   "version": "3.9.12"
  }
 },
 "nbformat": 4,
 "nbformat_minor": 5
}
